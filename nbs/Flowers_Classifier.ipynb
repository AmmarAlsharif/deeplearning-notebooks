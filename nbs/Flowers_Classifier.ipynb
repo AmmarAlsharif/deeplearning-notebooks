{
 "cells": [
  {
   "cell_type": "code",
   "execution_count": null,
   "metadata": {},
   "outputs": [],
   "source": [
    "%load_ext autoreload\n",
    "%autoreload 2"
   ]
  },
  {
   "cell_type": "code",
   "execution_count": null,
   "metadata": {},
   "outputs": [],
   "source": [
    "! pip install nbdev"
   ]
  },
  {
   "cell_type": "code",
   "execution_count": null,
   "metadata": {},
   "outputs": [],
   "source": [
    "import os\n",
    "import math\n",
    "import tensorflow as tf\n",
    "import matplotlib.pyplot as plt\n",
    "from pathlib import Path\n",
    "from deeplearning_notebooks.utils import *"
   ]
  },
  {
   "cell_type": "code",
   "execution_count": null,
   "metadata": {},
   "outputs": [
    {
     "name": "stdout",
     "output_type": "stream",
     "text": [
      "2.2.0\n"
     ]
    }
   ],
   "source": [
    "print(tf.version.VERSION)"
   ]
  },
  {
   "cell_type": "code",
   "execution_count": null,
   "metadata": {},
   "outputs": [
    {
     "name": "stdout",
     "output_type": "stream",
     "text": [
      "Downloading data from https://storage.googleapis.com/download.tensorflow.org/example_images/flower_photos.tgz\n",
      "228818944/228813984 [==============================] - 2s 0us/step\n"
     ]
    }
   ],
   "source": [
    "train_data_fp = tf.keras.utils.get_file(origin='https://storage.googleapis.com/download.tensorflow.org/example_images/flower_photos.tgz',\n",
    "                                         fname='/content/flowers',untar=True)"
   ]
  },
  {
   "cell_type": "code",
   "execution_count": null,
   "metadata": {},
   "outputs": [],
   "source": [
    "#Extract Data\n",
    "import tarfile\n",
    "tar_ref = tarfile.open('/content/flowers.tar.gz')\n",
    "tar_ref.extractall('/content/')"
   ]
  },
  {
   "cell_type": "code",
   "execution_count": null,
   "metadata": {},
   "outputs": [],
   "source": [
    "flowers_dir = Path('/content/flower_photos/')\n",
    "base_dir = Path('/content/data')\n",
    "train_dir = base_dir/'train'\n",
    "test_dir = base_dir/'test'"
   ]
  },
  {
   "cell_type": "code",
   "execution_count": null,
   "metadata": {},
   "outputs": [],
   "source": [
    "base_dir.mkdir()\n",
    "train_dir.mkdir()\n",
    "test_dir.mkdir()"
   ]
  },
  {
   "cell_type": "code",
   "execution_count": null,
   "metadata": {},
   "outputs": [
    {
     "name": "stdout",
     "output_type": "stream",
     "text": [
      "['sunflowers', 'tulips', 'dandelion', 'roses', 'daisy']\n"
     ]
    }
   ],
   "source": [
    "CLASS_NAMES = [folder.name for folder in flowers_dir.glob('*/') if folder.name.find('.') == -1]\n",
    "print(CLASS_NAMES)"
   ]
  },
  {
   "cell_type": "code",
   "execution_count": null,
   "metadata": {},
   "outputs": [],
   "source": [
    "for class_name in CLASS_NAMES:    \n",
    "    (train_dir / class_name).mkdir()\n",
    "    (test_dir / class_name).mkdir()"
   ]
  },
  {
   "cell_type": "code",
   "execution_count": null,
   "metadata": {},
   "outputs": [
    {
     "name": "stdout",
     "output_type": "stream",
     "text": [
      "class: SUNFLOWERS has: 699 images\n",
      "class: TULIPS has: 799 images\n",
      "class: DANDELION has: 898 images\n",
      "class: ROSES has: 641 images\n",
      "class: DAISY has: 633 images\n"
     ]
    }
   ],
   "source": [
    "how_many_in_each_class(flowers_dir,CLASS_NAMES)"
   ]
  },
  {
   "cell_type": "code",
   "execution_count": null,
   "metadata": {},
   "outputs": [],
   "source": [
    "for class_name in CLASS_NAMES:\n",
    "    if (flowers_dir / class_name).is_dir():\n",
    "        copy_data(flowers_dir / class_name, train_dir / class_name, copy_rate = 0.9)\n",
    "        copy_data(flowers_dir / class_name, test_dir / class_name, copy_rate = 0.1)"
   ]
  },
  {
   "cell_type": "code",
   "execution_count": null,
   "metadata": {},
   "outputs": [
    {
     "name": "stdout",
     "output_type": "stream",
     "text": [
      "class: SUNFLOWERS has: 629 images\n",
      "class: TULIPS has: 719 images\n",
      "class: DANDELION has: 808 images\n",
      "class: ROSES has: 576 images\n",
      "class: DAISY has: 569 images\n"
     ]
    }
   ],
   "source": [
    "how_many_in_each_class(train_dir, CLASS_NAMES)"
   ]
  },
  {
   "cell_type": "code",
   "execution_count": null,
   "metadata": {},
   "outputs": [
    {
     "name": "stdout",
     "output_type": "stream",
     "text": [
      "class: SUNFLOWERS has: 69 images\n",
      "class: TULIPS has: 79 images\n",
      "class: DANDELION has: 89 images\n",
      "class: ROSES has: 64 images\n",
      "class: DAISY has: 63 images\n"
     ]
    }
   ],
   "source": [
    "how_many_in_each_class(test_dir, CLASS_NAMES)"
   ]
  },
  {
   "cell_type": "code",
   "execution_count": null,
   "metadata": {},
   "outputs": [
    {
     "name": "stdout",
     "output_type": "stream",
     "text": [
      "Number of training images: 3301\n",
      "Number of testing images: 364\n"
     ]
    }
   ],
   "source": [
    "num_train = len([image for image in train_dir.glob('*/*')])\n",
    "num_test = len([image for image in test_dir.glob('*/*')])\n",
    "print('Number of training images: {}'.format(num_train))\n",
    "print('Number of testing images: {}'.format(num_test))"
   ]
  },
  {
   "cell_type": "code",
   "execution_count": null,
   "metadata": {},
   "outputs": [],
   "source": [
    "channels = 3\n",
    "img_width = 256\n",
    "img_height = 256\n",
    "batch_size = 4\n",
    "num_batches_train = int(num_train / batch_size)\n",
    "num_batches_test = int(num_test / batch_size)\n",
    "\n",
    "AUTOTUNE = tf.data.experimental.AUTOTUNE"
   ]
  },
  {
   "cell_type": "code",
   "execution_count": null,
   "metadata": {},
   "outputs": [
    {
     "name": "stdout",
     "output_type": "stream",
     "text": [
      "Downloading data from https://storage.googleapis.com/tensorflow/keras-applications/xception/xception_weights_tf_dim_ordering_tf_kernels_notop.h5\n",
      "83689472/83683744 [==============================] - 2s 0us/step\n"
     ]
    }
   ],
   "source": [
    "pre_trained = tf.keras.applications.Xception(include_top=False, \n",
    "                                             weights='imagenet', \n",
    "                                             input_shape=(img_width,img_height,3))"
   ]
  },
  {
   "cell_type": "code",
   "execution_count": null,
   "metadata": {},
   "outputs": [
    {
     "name": "stdout",
     "output_type": "stream",
     "text": [
      "Model: \"xception\"\n",
      "__________________________________________________________________________________________________\n",
      "Layer (type)                    Output Shape         Param #     Connected to                     \n",
      "==================================================================================================\n",
      "input_1 (InputLayer)            [(None, 256, 256, 3) 0                                            \n",
      "__________________________________________________________________________________________________\n",
      "block1_conv1 (Conv2D)           (None, 127, 127, 32) 864         input_1[0][0]                    \n",
      "__________________________________________________________________________________________________\n",
      "block1_conv1_bn (BatchNormaliza (None, 127, 127, 32) 128         block1_conv1[0][0]               \n",
      "__________________________________________________________________________________________________\n",
      "block1_conv1_act (Activation)   (None, 127, 127, 32) 0           block1_conv1_bn[0][0]            \n",
      "__________________________________________________________________________________________________\n",
      "block1_conv2 (Conv2D)           (None, 125, 125, 64) 18432       block1_conv1_act[0][0]           \n",
      "__________________________________________________________________________________________________\n",
      "block1_conv2_bn (BatchNormaliza (None, 125, 125, 64) 256         block1_conv2[0][0]               \n",
      "__________________________________________________________________________________________________\n",
      "block1_conv2_act (Activation)   (None, 125, 125, 64) 0           block1_conv2_bn[0][0]            \n",
      "__________________________________________________________________________________________________\n",
      "block2_sepconv1 (SeparableConv2 (None, 125, 125, 128 8768        block1_conv2_act[0][0]           \n",
      "__________________________________________________________________________________________________\n",
      "block2_sepconv1_bn (BatchNormal (None, 125, 125, 128 512         block2_sepconv1[0][0]            \n",
      "__________________________________________________________________________________________________\n",
      "block2_sepconv2_act (Activation (None, 125, 125, 128 0           block2_sepconv1_bn[0][0]         \n",
      "__________________________________________________________________________________________________\n",
      "block2_sepconv2 (SeparableConv2 (None, 125, 125, 128 17536       block2_sepconv2_act[0][0]        \n",
      "__________________________________________________________________________________________________\n",
      "block2_sepconv2_bn (BatchNormal (None, 125, 125, 128 512         block2_sepconv2[0][0]            \n",
      "__________________________________________________________________________________________________\n",
      "conv2d (Conv2D)                 (None, 63, 63, 128)  8192        block1_conv2_act[0][0]           \n",
      "__________________________________________________________________________________________________\n",
      "block2_pool (MaxPooling2D)      (None, 63, 63, 128)  0           block2_sepconv2_bn[0][0]         \n",
      "__________________________________________________________________________________________________\n",
      "batch_normalization (BatchNorma (None, 63, 63, 128)  512         conv2d[0][0]                     \n",
      "__________________________________________________________________________________________________\n",
      "add (Add)                       (None, 63, 63, 128)  0           block2_pool[0][0]                \n",
      "                                                                 batch_normalization[0][0]        \n",
      "__________________________________________________________________________________________________\n",
      "block3_sepconv1_act (Activation (None, 63, 63, 128)  0           add[0][0]                        \n",
      "__________________________________________________________________________________________________\n",
      "block3_sepconv1 (SeparableConv2 (None, 63, 63, 256)  33920       block3_sepconv1_act[0][0]        \n",
      "__________________________________________________________________________________________________\n",
      "block3_sepconv1_bn (BatchNormal (None, 63, 63, 256)  1024        block3_sepconv1[0][0]            \n",
      "__________________________________________________________________________________________________\n",
      "block3_sepconv2_act (Activation (None, 63, 63, 256)  0           block3_sepconv1_bn[0][0]         \n",
      "__________________________________________________________________________________________________\n",
      "block3_sepconv2 (SeparableConv2 (None, 63, 63, 256)  67840       block3_sepconv2_act[0][0]        \n",
      "__________________________________________________________________________________________________\n",
      "block3_sepconv2_bn (BatchNormal (None, 63, 63, 256)  1024        block3_sepconv2[0][0]            \n",
      "__________________________________________________________________________________________________\n",
      "conv2d_1 (Conv2D)               (None, 32, 32, 256)  32768       add[0][0]                        \n",
      "__________________________________________________________________________________________________\n",
      "block3_pool (MaxPooling2D)      (None, 32, 32, 256)  0           block3_sepconv2_bn[0][0]         \n",
      "__________________________________________________________________________________________________\n",
      "batch_normalization_1 (BatchNor (None, 32, 32, 256)  1024        conv2d_1[0][0]                   \n",
      "__________________________________________________________________________________________________\n",
      "add_1 (Add)                     (None, 32, 32, 256)  0           block3_pool[0][0]                \n",
      "                                                                 batch_normalization_1[0][0]      \n",
      "__________________________________________________________________________________________________\n",
      "block4_sepconv1_act (Activation (None, 32, 32, 256)  0           add_1[0][0]                      \n",
      "__________________________________________________________________________________________________\n",
      "block4_sepconv1 (SeparableConv2 (None, 32, 32, 728)  188672      block4_sepconv1_act[0][0]        \n",
      "__________________________________________________________________________________________________\n",
      "block4_sepconv1_bn (BatchNormal (None, 32, 32, 728)  2912        block4_sepconv1[0][0]            \n",
      "__________________________________________________________________________________________________\n",
      "block4_sepconv2_act (Activation (None, 32, 32, 728)  0           block4_sepconv1_bn[0][0]         \n",
      "__________________________________________________________________________________________________\n",
      "block4_sepconv2 (SeparableConv2 (None, 32, 32, 728)  536536      block4_sepconv2_act[0][0]        \n",
      "__________________________________________________________________________________________________\n",
      "block4_sepconv2_bn (BatchNormal (None, 32, 32, 728)  2912        block4_sepconv2[0][0]            \n",
      "__________________________________________________________________________________________________\n",
      "conv2d_2 (Conv2D)               (None, 16, 16, 728)  186368      add_1[0][0]                      \n",
      "__________________________________________________________________________________________________\n",
      "block4_pool (MaxPooling2D)      (None, 16, 16, 728)  0           block4_sepconv2_bn[0][0]         \n",
      "__________________________________________________________________________________________________\n",
      "batch_normalization_2 (BatchNor (None, 16, 16, 728)  2912        conv2d_2[0][0]                   \n",
      "__________________________________________________________________________________________________\n",
      "add_2 (Add)                     (None, 16, 16, 728)  0           block4_pool[0][0]                \n",
      "                                                                 batch_normalization_2[0][0]      \n",
      "__________________________________________________________________________________________________\n",
      "block5_sepconv1_act (Activation (None, 16, 16, 728)  0           add_2[0][0]                      \n",
      "__________________________________________________________________________________________________\n",
      "block5_sepconv1 (SeparableConv2 (None, 16, 16, 728)  536536      block5_sepconv1_act[0][0]        \n",
      "__________________________________________________________________________________________________\n",
      "block5_sepconv1_bn (BatchNormal (None, 16, 16, 728)  2912        block5_sepconv1[0][0]            \n",
      "__________________________________________________________________________________________________\n",
      "block5_sepconv2_act (Activation (None, 16, 16, 728)  0           block5_sepconv1_bn[0][0]         \n",
      "__________________________________________________________________________________________________\n",
      "block5_sepconv2 (SeparableConv2 (None, 16, 16, 728)  536536      block5_sepconv2_act[0][0]        \n",
      "__________________________________________________________________________________________________\n",
      "block5_sepconv2_bn (BatchNormal (None, 16, 16, 728)  2912        block5_sepconv2[0][0]            \n",
      "__________________________________________________________________________________________________\n",
      "block5_sepconv3_act (Activation (None, 16, 16, 728)  0           block5_sepconv2_bn[0][0]         \n",
      "__________________________________________________________________________________________________\n",
      "block5_sepconv3 (SeparableConv2 (None, 16, 16, 728)  536536      block5_sepconv3_act[0][0]        \n",
      "__________________________________________________________________________________________________\n",
      "block5_sepconv3_bn (BatchNormal (None, 16, 16, 728)  2912        block5_sepconv3[0][0]            \n",
      "__________________________________________________________________________________________________\n",
      "add_3 (Add)                     (None, 16, 16, 728)  0           block5_sepconv3_bn[0][0]         \n",
      "                                                                 add_2[0][0]                      \n",
      "__________________________________________________________________________________________________\n",
      "block6_sepconv1_act (Activation (None, 16, 16, 728)  0           add_3[0][0]                      \n",
      "__________________________________________________________________________________________________\n",
      "block6_sepconv1 (SeparableConv2 (None, 16, 16, 728)  536536      block6_sepconv1_act[0][0]        \n",
      "__________________________________________________________________________________________________\n",
      "block6_sepconv1_bn (BatchNormal (None, 16, 16, 728)  2912        block6_sepconv1[0][0]            \n",
      "__________________________________________________________________________________________________\n",
      "block6_sepconv2_act (Activation (None, 16, 16, 728)  0           block6_sepconv1_bn[0][0]         \n",
      "__________________________________________________________________________________________________\n",
      "block6_sepconv2 (SeparableConv2 (None, 16, 16, 728)  536536      block6_sepconv2_act[0][0]        \n",
      "__________________________________________________________________________________________________\n",
      "block6_sepconv2_bn (BatchNormal (None, 16, 16, 728)  2912        block6_sepconv2[0][0]            \n",
      "__________________________________________________________________________________________________\n",
      "block6_sepconv3_act (Activation (None, 16, 16, 728)  0           block6_sepconv2_bn[0][0]         \n",
      "__________________________________________________________________________________________________\n",
      "block6_sepconv3 (SeparableConv2 (None, 16, 16, 728)  536536      block6_sepconv3_act[0][0]        \n",
      "__________________________________________________________________________________________________\n",
      "block6_sepconv3_bn (BatchNormal (None, 16, 16, 728)  2912        block6_sepconv3[0][0]            \n",
      "__________________________________________________________________________________________________\n",
      "add_4 (Add)                     (None, 16, 16, 728)  0           block6_sepconv3_bn[0][0]         \n",
      "                                                                 add_3[0][0]                      \n",
      "__________________________________________________________________________________________________\n",
      "block7_sepconv1_act (Activation (None, 16, 16, 728)  0           add_4[0][0]                      \n",
      "__________________________________________________________________________________________________\n",
      "block7_sepconv1 (SeparableConv2 (None, 16, 16, 728)  536536      block7_sepconv1_act[0][0]        \n",
      "__________________________________________________________________________________________________\n",
      "block7_sepconv1_bn (BatchNormal (None, 16, 16, 728)  2912        block7_sepconv1[0][0]            \n",
      "__________________________________________________________________________________________________\n",
      "block7_sepconv2_act (Activation (None, 16, 16, 728)  0           block7_sepconv1_bn[0][0]         \n",
      "__________________________________________________________________________________________________\n",
      "block7_sepconv2 (SeparableConv2 (None, 16, 16, 728)  536536      block7_sepconv2_act[0][0]        \n",
      "__________________________________________________________________________________________________\n",
      "block7_sepconv2_bn (BatchNormal (None, 16, 16, 728)  2912        block7_sepconv2[0][0]            \n",
      "__________________________________________________________________________________________________\n",
      "block7_sepconv3_act (Activation (None, 16, 16, 728)  0           block7_sepconv2_bn[0][0]         \n",
      "__________________________________________________________________________________________________\n",
      "block7_sepconv3 (SeparableConv2 (None, 16, 16, 728)  536536      block7_sepconv3_act[0][0]        \n",
      "__________________________________________________________________________________________________\n",
      "block7_sepconv3_bn (BatchNormal (None, 16, 16, 728)  2912        block7_sepconv3[0][0]            \n",
      "__________________________________________________________________________________________________\n",
      "add_5 (Add)                     (None, 16, 16, 728)  0           block7_sepconv3_bn[0][0]         \n",
      "                                                                 add_4[0][0]                      \n",
      "__________________________________________________________________________________________________\n",
      "block8_sepconv1_act (Activation (None, 16, 16, 728)  0           add_5[0][0]                      \n",
      "__________________________________________________________________________________________________\n",
      "block8_sepconv1 (SeparableConv2 (None, 16, 16, 728)  536536      block8_sepconv1_act[0][0]        \n",
      "__________________________________________________________________________________________________\n",
      "block8_sepconv1_bn (BatchNormal (None, 16, 16, 728)  2912        block8_sepconv1[0][0]            \n",
      "__________________________________________________________________________________________________\n",
      "block8_sepconv2_act (Activation (None, 16, 16, 728)  0           block8_sepconv1_bn[0][0]         \n",
      "__________________________________________________________________________________________________\n",
      "block8_sepconv2 (SeparableConv2 (None, 16, 16, 728)  536536      block8_sepconv2_act[0][0]        \n",
      "__________________________________________________________________________________________________\n",
      "block8_sepconv2_bn (BatchNormal (None, 16, 16, 728)  2912        block8_sepconv2[0][0]            \n",
      "__________________________________________________________________________________________________\n",
      "block8_sepconv3_act (Activation (None, 16, 16, 728)  0           block8_sepconv2_bn[0][0]         \n",
      "__________________________________________________________________________________________________\n",
      "block8_sepconv3 (SeparableConv2 (None, 16, 16, 728)  536536      block8_sepconv3_act[0][0]        \n",
      "__________________________________________________________________________________________________\n",
      "block8_sepconv3_bn (BatchNormal (None, 16, 16, 728)  2912        block8_sepconv3[0][0]            \n",
      "__________________________________________________________________________________________________\n",
      "add_6 (Add)                     (None, 16, 16, 728)  0           block8_sepconv3_bn[0][0]         \n",
      "                                                                 add_5[0][0]                      \n",
      "__________________________________________________________________________________________________\n",
      "block9_sepconv1_act (Activation (None, 16, 16, 728)  0           add_6[0][0]                      \n",
      "__________________________________________________________________________________________________\n",
      "block9_sepconv1 (SeparableConv2 (None, 16, 16, 728)  536536      block9_sepconv1_act[0][0]        \n",
      "__________________________________________________________________________________________________\n",
      "block9_sepconv1_bn (BatchNormal (None, 16, 16, 728)  2912        block9_sepconv1[0][0]            \n",
      "__________________________________________________________________________________________________\n",
      "block9_sepconv2_act (Activation (None, 16, 16, 728)  0           block9_sepconv1_bn[0][0]         \n",
      "__________________________________________________________________________________________________\n",
      "block9_sepconv2 (SeparableConv2 (None, 16, 16, 728)  536536      block9_sepconv2_act[0][0]        \n",
      "__________________________________________________________________________________________________\n",
      "block9_sepconv2_bn (BatchNormal (None, 16, 16, 728)  2912        block9_sepconv2[0][0]            \n",
      "__________________________________________________________________________________________________\n",
      "block9_sepconv3_act (Activation (None, 16, 16, 728)  0           block9_sepconv2_bn[0][0]         \n",
      "__________________________________________________________________________________________________\n",
      "block9_sepconv3 (SeparableConv2 (None, 16, 16, 728)  536536      block9_sepconv3_act[0][0]        \n",
      "__________________________________________________________________________________________________\n",
      "block9_sepconv3_bn (BatchNormal (None, 16, 16, 728)  2912        block9_sepconv3[0][0]            \n",
      "__________________________________________________________________________________________________\n",
      "add_7 (Add)                     (None, 16, 16, 728)  0           block9_sepconv3_bn[0][0]         \n",
      "                                                                 add_6[0][0]                      \n",
      "__________________________________________________________________________________________________\n",
      "block10_sepconv1_act (Activatio (None, 16, 16, 728)  0           add_7[0][0]                      \n",
      "__________________________________________________________________________________________________\n",
      "block10_sepconv1 (SeparableConv (None, 16, 16, 728)  536536      block10_sepconv1_act[0][0]       \n",
      "__________________________________________________________________________________________________\n",
      "block10_sepconv1_bn (BatchNorma (None, 16, 16, 728)  2912        block10_sepconv1[0][0]           \n",
      "__________________________________________________________________________________________________\n",
      "block10_sepconv2_act (Activatio (None, 16, 16, 728)  0           block10_sepconv1_bn[0][0]        \n",
      "__________________________________________________________________________________________________\n",
      "block10_sepconv2 (SeparableConv (None, 16, 16, 728)  536536      block10_sepconv2_act[0][0]       \n",
      "__________________________________________________________________________________________________\n",
      "block10_sepconv2_bn (BatchNorma (None, 16, 16, 728)  2912        block10_sepconv2[0][0]           \n",
      "__________________________________________________________________________________________________\n",
      "block10_sepconv3_act (Activatio (None, 16, 16, 728)  0           block10_sepconv2_bn[0][0]        \n",
      "__________________________________________________________________________________________________\n",
      "block10_sepconv3 (SeparableConv (None, 16, 16, 728)  536536      block10_sepconv3_act[0][0]       \n",
      "__________________________________________________________________________________________________\n",
      "block10_sepconv3_bn (BatchNorma (None, 16, 16, 728)  2912        block10_sepconv3[0][0]           \n",
      "__________________________________________________________________________________________________\n",
      "add_8 (Add)                     (None, 16, 16, 728)  0           block10_sepconv3_bn[0][0]        \n",
      "                                                                 add_7[0][0]                      \n",
      "__________________________________________________________________________________________________\n",
      "block11_sepconv1_act (Activatio (None, 16, 16, 728)  0           add_8[0][0]                      \n",
      "__________________________________________________________________________________________________\n",
      "block11_sepconv1 (SeparableConv (None, 16, 16, 728)  536536      block11_sepconv1_act[0][0]       \n",
      "__________________________________________________________________________________________________\n",
      "block11_sepconv1_bn (BatchNorma (None, 16, 16, 728)  2912        block11_sepconv1[0][0]           \n",
      "__________________________________________________________________________________________________\n",
      "block11_sepconv2_act (Activatio (None, 16, 16, 728)  0           block11_sepconv1_bn[0][0]        \n",
      "__________________________________________________________________________________________________\n",
      "block11_sepconv2 (SeparableConv (None, 16, 16, 728)  536536      block11_sepconv2_act[0][0]       \n",
      "__________________________________________________________________________________________________\n",
      "block11_sepconv2_bn (BatchNorma (None, 16, 16, 728)  2912        block11_sepconv2[0][0]           \n",
      "__________________________________________________________________________________________________\n",
      "block11_sepconv3_act (Activatio (None, 16, 16, 728)  0           block11_sepconv2_bn[0][0]        \n",
      "__________________________________________________________________________________________________\n",
      "block11_sepconv3 (SeparableConv (None, 16, 16, 728)  536536      block11_sepconv3_act[0][0]       \n",
      "__________________________________________________________________________________________________\n",
      "block11_sepconv3_bn (BatchNorma (None, 16, 16, 728)  2912        block11_sepconv3[0][0]           \n",
      "__________________________________________________________________________________________________\n",
      "add_9 (Add)                     (None, 16, 16, 728)  0           block11_sepconv3_bn[0][0]        \n",
      "                                                                 add_8[0][0]                      \n",
      "__________________________________________________________________________________________________\n",
      "block12_sepconv1_act (Activatio (None, 16, 16, 728)  0           add_9[0][0]                      \n",
      "__________________________________________________________________________________________________\n",
      "block12_sepconv1 (SeparableConv (None, 16, 16, 728)  536536      block12_sepconv1_act[0][0]       \n",
      "__________________________________________________________________________________________________\n",
      "block12_sepconv1_bn (BatchNorma (None, 16, 16, 728)  2912        block12_sepconv1[0][0]           \n",
      "__________________________________________________________________________________________________\n",
      "block12_sepconv2_act (Activatio (None, 16, 16, 728)  0           block12_sepconv1_bn[0][0]        \n",
      "__________________________________________________________________________________________________\n",
      "block12_sepconv2 (SeparableConv (None, 16, 16, 728)  536536      block12_sepconv2_act[0][0]       \n",
      "__________________________________________________________________________________________________\n",
      "block12_sepconv2_bn (BatchNorma (None, 16, 16, 728)  2912        block12_sepconv2[0][0]           \n",
      "__________________________________________________________________________________________________\n",
      "block12_sepconv3_act (Activatio (None, 16, 16, 728)  0           block12_sepconv2_bn[0][0]        \n",
      "__________________________________________________________________________________________________\n",
      "block12_sepconv3 (SeparableConv (None, 16, 16, 728)  536536      block12_sepconv3_act[0][0]       \n",
      "__________________________________________________________________________________________________\n",
      "block12_sepconv3_bn (BatchNorma (None, 16, 16, 728)  2912        block12_sepconv3[0][0]           \n",
      "__________________________________________________________________________________________________\n",
      "add_10 (Add)                    (None, 16, 16, 728)  0           block12_sepconv3_bn[0][0]        \n",
      "                                                                 add_9[0][0]                      \n",
      "__________________________________________________________________________________________________\n",
      "block13_sepconv1_act (Activatio (None, 16, 16, 728)  0           add_10[0][0]                     \n",
      "__________________________________________________________________________________________________\n",
      "block13_sepconv1 (SeparableConv (None, 16, 16, 728)  536536      block13_sepconv1_act[0][0]       \n",
      "__________________________________________________________________________________________________\n",
      "block13_sepconv1_bn (BatchNorma (None, 16, 16, 728)  2912        block13_sepconv1[0][0]           \n",
      "__________________________________________________________________________________________________\n",
      "block13_sepconv2_act (Activatio (None, 16, 16, 728)  0           block13_sepconv1_bn[0][0]        \n",
      "__________________________________________________________________________________________________\n",
      "block13_sepconv2 (SeparableConv (None, 16, 16, 1024) 752024      block13_sepconv2_act[0][0]       \n",
      "__________________________________________________________________________________________________\n",
      "block13_sepconv2_bn (BatchNorma (None, 16, 16, 1024) 4096        block13_sepconv2[0][0]           \n",
      "__________________________________________________________________________________________________\n",
      "conv2d_3 (Conv2D)               (None, 8, 8, 1024)   745472      add_10[0][0]                     \n",
      "__________________________________________________________________________________________________\n",
      "block13_pool (MaxPooling2D)     (None, 8, 8, 1024)   0           block13_sepconv2_bn[0][0]        \n",
      "__________________________________________________________________________________________________\n",
      "batch_normalization_3 (BatchNor (None, 8, 8, 1024)   4096        conv2d_3[0][0]                   \n",
      "__________________________________________________________________________________________________\n",
      "add_11 (Add)                    (None, 8, 8, 1024)   0           block13_pool[0][0]               \n",
      "                                                                 batch_normalization_3[0][0]      \n",
      "__________________________________________________________________________________________________\n",
      "block14_sepconv1 (SeparableConv (None, 8, 8, 1536)   1582080     add_11[0][0]                     \n",
      "__________________________________________________________________________________________________\n",
      "block14_sepconv1_bn (BatchNorma (None, 8, 8, 1536)   6144        block14_sepconv1[0][0]           \n",
      "__________________________________________________________________________________________________\n",
      "block14_sepconv1_act (Activatio (None, 8, 8, 1536)   0           block14_sepconv1_bn[0][0]        \n",
      "__________________________________________________________________________________________________\n",
      "block14_sepconv2 (SeparableConv (None, 8, 8, 2048)   3159552     block14_sepconv1_act[0][0]       \n",
      "__________________________________________________________________________________________________\n",
      "block14_sepconv2_bn (BatchNorma (None, 8, 8, 2048)   8192        block14_sepconv2[0][0]           \n",
      "__________________________________________________________________________________________________\n",
      "block14_sepconv2_act (Activatio (None, 8, 8, 2048)   0           block14_sepconv2_bn[0][0]        \n",
      "==================================================================================================\n",
      "Total params: 20,861,480\n",
      "Trainable params: 20,806,952\n",
      "Non-trainable params: 54,528\n",
      "__________________________________________________________________________________________________\n"
     ]
    }
   ],
   "source": [
    "pre_trained.summary()"
   ]
  },
  {
   "cell_type": "code",
   "execution_count": null,
   "metadata": {},
   "outputs": [],
   "source": [
    "class DataProcessor():\n",
    "    def __init__(self, img_width, img_height, class_names):\n",
    "        self.width = img_width\n",
    "        self.height = img_height\n",
    "        self.class_names = class_names\n",
    "\n",
    "    def process_path(self, file_path):\n",
    "        label = self.get_label(file_path)\n",
    "        img_file = tf.io.read_file(file_path)\n",
    "        img = self.decode_img(img_file)\n",
    "        img = tf.image.resize(img, [self.width, self.height], method=tf.image.ResizeMethod.NEAREST_NEIGHBOR)\n",
    "        return img, label\n",
    "\n",
    "    def decode_img(self, img):\n",
    "        img_tensor = tf.image.decode_jpeg(img, channels=3)\n",
    "        img_tensor = tf.cast(img_tensor, dtype=tf.float32)\n",
    "        return img_tensor \n",
    "\n",
    "    def get_label(self, file_path):\n",
    "        parts = tf.strings.split(file_path, os.path.sep)\n",
    "        res = parts[-2] == self.class_names\n",
    "        return res"
   ]
  },
  {
   "cell_type": "code",
   "execution_count": null,
   "metadata": {},
   "outputs": [],
   "source": [
    "class DataTransformer():\n",
    "    def __init__(self, device_type: str = 'cpu', device_id: int = 0):\n",
    "        assert device_type in ['cpu', 'gpu']\n",
    "        self.device_type = device_type.upper() + ':' + str(device_id)\n",
    "\n",
    "    def transform(self, img, label):\n",
    "        with tf.device(self.device_type):\n",
    "            img = tf.image.random_flip_left_right(img)\n",
    "            # img = tf.image.random_brightness(img, max_delta=0.2)\n",
    "            img = tf.image.random_saturation(img, lower=0.0, upper=2.0)\n",
    "            img = tf.image.random_contrast(img, lower=0.8, upper=1.3)\n",
    "            img = tf.image.rot90(img,tf.random.uniform(shape=[], minval=0, maxval=3, dtype=tf.int32))\n",
    "            img = tf.image.transpose(img)\n",
    "        return img, label"
   ]
  },
  {
   "cell_type": "code",
   "execution_count": null,
   "metadata": {},
   "outputs": [],
   "source": [
    "def input_preprocess_wrapper(img, label):\n",
    "    return tf.keras.applications.xception.preprocess_input(img), label"
   ]
  },
  {
   "cell_type": "code",
   "execution_count": null,
   "metadata": {},
   "outputs": [],
   "source": [
    "data_processor = DataProcessor(img_width, img_height, CLASS_NAMES)"
   ]
  },
  {
   "cell_type": "code",
   "execution_count": null,
   "metadata": {},
   "outputs": [],
   "source": [
    "data_transformer = DataTransformer(device_type='gpu', device_id=0)"
   ]
  },
  {
   "cell_type": "code",
   "execution_count": null,
   "metadata": {},
   "outputs": [],
   "source": [
    "train_dataset = tf.data.Dataset.list_files(str(train_dir/'*/*'))\n",
    "test_dataset = tf.data.Dataset.list_files(str(test_dir/'*/*'))"
   ]
  },
  {
   "cell_type": "code",
   "execution_count": null,
   "metadata": {},
   "outputs": [],
   "source": [
    "train_dataset = (train_dataset.map(data_processor.process_path, \n",
    "                                   num_parallel_calls=AUTOTUNE)\n",
    "                                .map(input_preprocess_wrapper)\n",
    "                                .cache('/content/train')\n",
    "                                .shuffle(1000)\n",
    "                                .batch(batch_size)\n",
    "                                .map(data_transformer.transform)\n",
    "                                .repeat(1)\n",
    "                                .prefetch(AUTOTUNE))"
   ]
  },
  {
   "cell_type": "code",
   "execution_count": null,
   "metadata": {},
   "outputs": [],
   "source": [
    "test_dataset = (test_dataset.map(data_processor.process_path, \n",
    "                                   num_parallel_calls=AUTOTUNE)\n",
    "                                .map(input_preprocess_wrapper)\n",
    "                                .cache('/content/test')\n",
    "                                .shuffle(1000)\n",
    "                                .batch(batch_size)\n",
    "                                .map(data_transformer.transform)\n",
    "                                .repeat(1)\n",
    "                                .prefetch(AUTOTUNE))"
   ]
  },
  {
   "cell_type": "code",
   "execution_count": null,
   "metadata": {},
   "outputs": [],
   "source": [
    "top_model = tf.keras.Sequential([\n",
    "    tf.keras.layers.Flatten(),\n",
    "    tf.keras.layers.Dense(2048, activation=tf.nn.relu),\n",
    "    tf.keras.layers.Dense(1024, activation=tf.nn.relu),\n",
    "    tf.keras.layers.Dense(5, activation=tf.nn.softmax)\n",
    "])"
   ]
  },
  {
   "cell_type": "code",
   "execution_count": null,
   "metadata": {},
   "outputs": [],
   "source": [
    "model = tf.keras.Sequential([\n",
    "    pre_trained,\n",
    "    top_model\n",
    "])"
   ]
  },
  {
   "cell_type": "code",
   "execution_count": null,
   "metadata": {},
   "outputs": [
    {
     "name": "stdout",
     "output_type": "stream",
     "text": [
      "Model: \"sequential\"\n",
      "_________________________________________________________________\n",
      "Layer (type)                 Output Shape              Param #   \n",
      "=================================================================\n",
      "flatten (Flatten)            (None, 131072)            0         \n",
      "_________________________________________________________________\n",
      "dense (Dense)                (None, 2048)              268437504 \n",
      "_________________________________________________________________\n",
      "dense_1 (Dense)              (None, 1024)              2098176   \n",
      "_________________________________________________________________\n",
      "dense_2 (Dense)              (None, 5)                 5125      \n",
      "=================================================================\n",
      "Total params: 270,540,805\n",
      "Trainable params: 270,540,805\n",
      "Non-trainable params: 0\n",
      "_________________________________________________________________\n"
     ]
    }
   ],
   "source": [
    "top_model.summary()"
   ]
  },
  {
   "cell_type": "code",
   "execution_count": null,
   "metadata": {},
   "outputs": [
    {
     "name": "stdout",
     "output_type": "stream",
     "text": [
      "Model: \"sequential_1\"\n",
      "_________________________________________________________________\n",
      "Layer (type)                 Output Shape              Param #   \n",
      "=================================================================\n",
      "xception (Model)             (None, 8, 8, 2048)        20861480  \n",
      "_________________________________________________________________\n",
      "sequential (Sequential)      (None, 5)                 270540805 \n",
      "=================================================================\n",
      "Total params: 291,402,285\n",
      "Trainable params: 291,347,757\n",
      "Non-trainable params: 54,528\n",
      "_________________________________________________________________\n"
     ]
    }
   ],
   "source": [
    "model.summary()"
   ]
  },
  {
   "cell_type": "code",
   "execution_count": null,
   "metadata": {},
   "outputs": [],
   "source": [
    "freeze_unfreeze_layers(pre_trained, freeze_mode=True)"
   ]
  },
  {
   "cell_type": "code",
   "execution_count": null,
   "metadata": {},
   "outputs": [
    {
     "name": "stdout",
     "output_type": "stream",
     "text": [
      "name: input_1, trainable: False\n",
      "name: block1_conv1, trainable: False\n",
      "name: block1_conv1_bn, trainable: False\n",
      "name: block1_conv1_act, trainable: False\n",
      "name: block1_conv2, trainable: False\n",
      "name: block1_conv2_bn, trainable: False\n",
      "name: block1_conv2_act, trainable: False\n",
      "name: block2_sepconv1, trainable: False\n",
      "name: block2_sepconv1_bn, trainable: False\n",
      "name: block2_sepconv2_act, trainable: False\n",
      "name: block2_sepconv2, trainable: False\n",
      "name: block2_sepconv2_bn, trainable: False\n",
      "name: conv2d, trainable: False\n",
      "name: block2_pool, trainable: False\n",
      "name: batch_normalization, trainable: False\n",
      "name: add, trainable: False\n",
      "name: block3_sepconv1_act, trainable: False\n",
      "name: block3_sepconv1, trainable: False\n",
      "name: block3_sepconv1_bn, trainable: False\n",
      "name: block3_sepconv2_act, trainable: False\n",
      "name: block3_sepconv2, trainable: False\n",
      "name: block3_sepconv2_bn, trainable: False\n",
      "name: conv2d_1, trainable: False\n",
      "name: block3_pool, trainable: False\n",
      "name: batch_normalization_1, trainable: False\n",
      "name: add_1, trainable: False\n",
      "name: block4_sepconv1_act, trainable: False\n",
      "name: block4_sepconv1, trainable: False\n",
      "name: block4_sepconv1_bn, trainable: False\n",
      "name: block4_sepconv2_act, trainable: False\n",
      "name: block4_sepconv2, trainable: False\n",
      "name: block4_sepconv2_bn, trainable: False\n",
      "name: conv2d_2, trainable: False\n",
      "name: block4_pool, trainable: False\n",
      "name: batch_normalization_2, trainable: False\n",
      "name: add_2, trainable: False\n",
      "name: block5_sepconv1_act, trainable: False\n",
      "name: block5_sepconv1, trainable: False\n",
      "name: block5_sepconv1_bn, trainable: False\n",
      "name: block5_sepconv2_act, trainable: False\n",
      "name: block5_sepconv2, trainable: False\n",
      "name: block5_sepconv2_bn, trainable: False\n",
      "name: block5_sepconv3_act, trainable: False\n",
      "name: block5_sepconv3, trainable: False\n",
      "name: block5_sepconv3_bn, trainable: False\n",
      "name: add_3, trainable: False\n",
      "name: block6_sepconv1_act, trainable: False\n",
      "name: block6_sepconv1, trainable: False\n",
      "name: block6_sepconv1_bn, trainable: False\n",
      "name: block6_sepconv2_act, trainable: False\n",
      "name: block6_sepconv2, trainable: False\n",
      "name: block6_sepconv2_bn, trainable: False\n",
      "name: block6_sepconv3_act, trainable: False\n",
      "name: block6_sepconv3, trainable: False\n",
      "name: block6_sepconv3_bn, trainable: False\n",
      "name: add_4, trainable: False\n",
      "name: block7_sepconv1_act, trainable: False\n",
      "name: block7_sepconv1, trainable: False\n",
      "name: block7_sepconv1_bn, trainable: False\n",
      "name: block7_sepconv2_act, trainable: False\n",
      "name: block7_sepconv2, trainable: False\n",
      "name: block7_sepconv2_bn, trainable: False\n",
      "name: block7_sepconv3_act, trainable: False\n",
      "name: block7_sepconv3, trainable: False\n",
      "name: block7_sepconv3_bn, trainable: False\n",
      "name: add_5, trainable: False\n",
      "name: block8_sepconv1_act, trainable: False\n",
      "name: block8_sepconv1, trainable: False\n",
      "name: block8_sepconv1_bn, trainable: False\n",
      "name: block8_sepconv2_act, trainable: False\n",
      "name: block8_sepconv2, trainable: False\n",
      "name: block8_sepconv2_bn, trainable: False\n",
      "name: block8_sepconv3_act, trainable: False\n",
      "name: block8_sepconv3, trainable: False\n",
      "name: block8_sepconv3_bn, trainable: False\n",
      "name: add_6, trainable: False\n",
      "name: block9_sepconv1_act, trainable: False\n",
      "name: block9_sepconv1, trainable: False\n",
      "name: block9_sepconv1_bn, trainable: False\n",
      "name: block9_sepconv2_act, trainable: False\n",
      "name: block9_sepconv2, trainable: False\n",
      "name: block9_sepconv2_bn, trainable: False\n",
      "name: block9_sepconv3_act, trainable: False\n",
      "name: block9_sepconv3, trainable: False\n",
      "name: block9_sepconv3_bn, trainable: False\n",
      "name: add_7, trainable: False\n",
      "name: block10_sepconv1_act, trainable: False\n",
      "name: block10_sepconv1, trainable: False\n",
      "name: block10_sepconv1_bn, trainable: False\n",
      "name: block10_sepconv2_act, trainable: False\n",
      "name: block10_sepconv2, trainable: False\n",
      "name: block10_sepconv2_bn, trainable: False\n",
      "name: block10_sepconv3_act, trainable: False\n",
      "name: block10_sepconv3, trainable: False\n",
      "name: block10_sepconv3_bn, trainable: False\n",
      "name: add_8, trainable: False\n",
      "name: block11_sepconv1_act, trainable: False\n",
      "name: block11_sepconv1, trainable: False\n",
      "name: block11_sepconv1_bn, trainable: False\n",
      "name: block11_sepconv2_act, trainable: False\n",
      "name: block11_sepconv2, trainable: False\n",
      "name: block11_sepconv2_bn, trainable: False\n",
      "name: block11_sepconv3_act, trainable: False\n",
      "name: block11_sepconv3, trainable: False\n",
      "name: block11_sepconv3_bn, trainable: False\n",
      "name: add_9, trainable: False\n",
      "name: block12_sepconv1_act, trainable: False\n",
      "name: block12_sepconv1, trainable: False\n",
      "name: block12_sepconv1_bn, trainable: False\n",
      "name: block12_sepconv2_act, trainable: False\n",
      "name: block12_sepconv2, trainable: False\n",
      "name: block12_sepconv2_bn, trainable: False\n",
      "name: block12_sepconv3_act, trainable: False\n",
      "name: block12_sepconv3, trainable: False\n",
      "name: block12_sepconv3_bn, trainable: False\n",
      "name: add_10, trainable: False\n",
      "name: block13_sepconv1_act, trainable: False\n",
      "name: block13_sepconv1, trainable: False\n",
      "name: block13_sepconv1_bn, trainable: False\n",
      "name: block13_sepconv2_act, trainable: False\n",
      "name: block13_sepconv2, trainable: False\n",
      "name: block13_sepconv2_bn, trainable: False\n",
      "name: conv2d_3, trainable: False\n",
      "name: block13_pool, trainable: False\n",
      "name: batch_normalization_3, trainable: False\n",
      "name: add_11, trainable: False\n",
      "name: block14_sepconv1, trainable: False\n",
      "name: block14_sepconv1_bn, trainable: False\n",
      "name: block14_sepconv1_act, trainable: False\n",
      "name: block14_sepconv2, trainable: False\n",
      "name: block14_sepconv2_bn, trainable: False\n",
      "name: block14_sepconv2_act, trainable: False\n"
     ]
    }
   ],
   "source": [
    "list_layers(pre_trained)"
   ]
  },
  {
   "cell_type": "code",
   "execution_count": null,
   "metadata": {},
   "outputs": [],
   "source": [
    "ckpt = tf.train.Checkpoint(weights = model.weights)"
   ]
  },
  {
   "cell_type": "code",
   "execution_count": null,
   "metadata": {},
   "outputs": [],
   "source": [
    "ckpt_dir = './../Experiments/Flowers_Classifier/weights'\n",
    "ckpt_callback = CheckPointManagerCallback(ckpt, \n",
    "                                          ckpt_dir,\n",
    "                                          after_num_epoch=10,\n",
    "                                          max_to_keep=1,\n",
    "                                          checkpoint_name='flowers_classifier_Adadelta_optimizer_no_tune')"
   ]
  },
  {
   "cell_type": "code",
   "execution_count": null,
   "metadata": {},
   "outputs": [],
   "source": [
    "model.compile(optimizer=tf.optimizers.Adadelta(),\n",
    "              loss = tf.losses.CategoricalCrossentropy(),\n",
    "              metrics=['accuracy'])"
   ]
  },
  {
   "cell_type": "code",
   "execution_count": null,
   "metadata": {},
   "outputs": [
    {
     "name": "stdout",
     "output_type": "stream",
     "text": [
      "Epoch 1/50\n",
      "826/826 [==============================] - 50s 61ms/step - loss: 0.7693 - accuracy: 0.7322 - val_loss: 0.5397 - val_accuracy: 0.8132\n",
      "Epoch 2/50\n",
      "826/826 [==============================] - 44s 53ms/step - loss: 0.4850 - accuracy: 0.8307 - val_loss: 0.4558 - val_accuracy: 0.8269\n",
      "Epoch 3/50\n",
      "826/826 [==============================] - 44s 53ms/step - loss: 0.4221 - accuracy: 0.8458 - val_loss: 0.4033 - val_accuracy: 0.8571\n",
      "Epoch 4/50\n",
      "826/826 [==============================] - 44s 53ms/step - loss: 0.3792 - accuracy: 0.8685 - val_loss: 0.3740 - val_accuracy: 0.8654\n",
      "Epoch 5/50\n",
      "826/826 [==============================] - 44s 53ms/step - loss: 0.3398 - accuracy: 0.8812 - val_loss: 0.3500 - val_accuracy: 0.8709\n",
      "Epoch 6/50\n",
      "826/826 [==============================] - 44s 53ms/step - loss: 0.3116 - accuracy: 0.8982 - val_loss: 0.3227 - val_accuracy: 0.8791\n",
      "Epoch 7/50\n",
      "826/826 [==============================] - 44s 53ms/step - loss: 0.2966 - accuracy: 0.9012 - val_loss: 0.2695 - val_accuracy: 0.9148\n",
      "Epoch 8/50\n",
      "826/826 [==============================] - 44s 53ms/step - loss: 0.2901 - accuracy: 0.9022 - val_loss: 0.2845 - val_accuracy: 0.9038\n",
      "Epoch 9/50\n",
      "826/826 [==============================] - 44s 53ms/step - loss: 0.2702 - accuracy: 0.9079 - val_loss: 0.2365 - val_accuracy: 0.9286\n",
      "Epoch 10/50\n",
      "826/826 [==============================] - 44s 53ms/step - loss: 0.2561 - accuracy: 0.9140 - val_loss: 0.2548 - val_accuracy: 0.9313\n",
      "Epoch 11/50\n",
      "826/826 [==============================] - 44s 53ms/step - loss: 0.2326 - accuracy: 0.9212 - val_loss: 0.2214 - val_accuracy: 0.9313\n",
      "Epoch 12/50\n",
      "826/826 [==============================] - 44s 53ms/step - loss: 0.2197 - accuracy: 0.9231 - val_loss: 0.2370 - val_accuracy: 0.9093\n",
      "Epoch 13/50\n",
      "826/826 [==============================] - 44s 53ms/step - loss: 0.2157 - accuracy: 0.9270 - val_loss: 0.2420 - val_accuracy: 0.9011\n",
      "Epoch 14/50\n",
      "826/826 [==============================] - 44s 53ms/step - loss: 0.2076 - accuracy: 0.9331 - val_loss: 0.2176 - val_accuracy: 0.9368\n",
      "Epoch 15/50\n",
      "826/826 [==============================] - 44s 53ms/step - loss: 0.1953 - accuracy: 0.9394 - val_loss: 0.1785 - val_accuracy: 0.9423\n",
      "Epoch 16/50\n",
      "826/826 [==============================] - 45s 55ms/step - loss: 0.1927 - accuracy: 0.9397 - val_loss: 0.1853 - val_accuracy: 0.9396\n",
      "Epoch 17/50\n",
      "826/826 [==============================] - 45s 55ms/step - loss: 0.1628 - accuracy: 0.9515 - val_loss: 0.1873 - val_accuracy: 0.9313\n",
      "Epoch 18/50\n",
      "826/826 [==============================] - 45s 55ms/step - loss: 0.1791 - accuracy: 0.9437 - val_loss: 0.1600 - val_accuracy: 0.9368\n",
      "Epoch 19/50\n",
      "826/826 [==============================] - 45s 55ms/step - loss: 0.1596 - accuracy: 0.9485 - val_loss: 0.1740 - val_accuracy: 0.9396\n",
      "Epoch 20/50\n",
      "826/826 [==============================] - 45s 55ms/step - loss: 0.1542 - accuracy: 0.9524 - val_loss: 0.1820 - val_accuracy: 0.9368\n",
      "Epoch 21/50\n",
      "826/826 [==============================] - 45s 54ms/step - loss: 0.1515 - accuracy: 0.9533 - val_loss: 0.1367 - val_accuracy: 0.9588\n",
      "Epoch 22/50\n",
      "826/826 [==============================] - 45s 55ms/step - loss: 0.1441 - accuracy: 0.9564 - val_loss: 0.1517 - val_accuracy: 0.9533\n",
      "Epoch 23/50\n",
      "826/826 [==============================] - 45s 54ms/step - loss: 0.1426 - accuracy: 0.9573 - val_loss: 0.1773 - val_accuracy: 0.9313\n",
      "Epoch 24/50\n",
      "826/826 [==============================] - 45s 54ms/step - loss: 0.1362 - accuracy: 0.9570 - val_loss: 0.1425 - val_accuracy: 0.9505\n",
      "Epoch 25/50\n",
      "826/826 [==============================] - 45s 54ms/step - loss: 0.1332 - accuracy: 0.9585 - val_loss: 0.1453 - val_accuracy: 0.9615\n",
      "Epoch 26/50\n",
      "826/826 [==============================] - 45s 54ms/step - loss: 0.1290 - accuracy: 0.9591 - val_loss: 0.1178 - val_accuracy: 0.9643\n",
      "Epoch 27/50\n",
      "826/826 [==============================] - 44s 54ms/step - loss: 0.1168 - accuracy: 0.9621 - val_loss: 0.1344 - val_accuracy: 0.9615\n",
      "Epoch 28/50\n",
      "826/826 [==============================] - 44s 53ms/step - loss: 0.1246 - accuracy: 0.9649 - val_loss: 0.1198 - val_accuracy: 0.9725\n",
      "Epoch 29/50\n",
      "826/826 [==============================] - 44s 53ms/step - loss: 0.1146 - accuracy: 0.9640 - val_loss: 0.1233 - val_accuracy: 0.9643\n",
      "Epoch 30/50\n",
      "826/826 [==============================] - 44s 53ms/step - loss: 0.1104 - accuracy: 0.9679 - val_loss: 0.1229 - val_accuracy: 0.9698\n",
      "Epoch 31/50\n",
      "826/826 [==============================] - 44s 53ms/step - loss: 0.1047 - accuracy: 0.9718 - val_loss: 0.1090 - val_accuracy: 0.9643\n",
      "Epoch 32/50\n",
      "826/826 [==============================] - 44s 53ms/step - loss: 0.1047 - accuracy: 0.9730 - val_loss: 0.1112 - val_accuracy: 0.9670\n",
      "Epoch 33/50\n",
      "826/826 [==============================] - 44s 53ms/step - loss: 0.0954 - accuracy: 0.9761 - val_loss: 0.0871 - val_accuracy: 0.9753\n",
      "Epoch 34/50\n",
      "826/826 [==============================] - 44s 53ms/step - loss: 0.0977 - accuracy: 0.9724 - val_loss: 0.0947 - val_accuracy: 0.9725\n",
      "Epoch 35/50\n",
      "826/826 [==============================] - 44s 53ms/step - loss: 0.0922 - accuracy: 0.9758 - val_loss: 0.1272 - val_accuracy: 0.9505\n",
      "Epoch 36/50\n",
      "826/826 [==============================] - 44s 53ms/step - loss: 0.0798 - accuracy: 0.9776 - val_loss: 0.1003 - val_accuracy: 0.9615\n",
      "Epoch 37/50\n",
      "826/826 [==============================] - 44s 53ms/step - loss: 0.0840 - accuracy: 0.9782 - val_loss: 0.0891 - val_accuracy: 0.9698\n",
      "Epoch 38/50\n",
      "826/826 [==============================] - 44s 53ms/step - loss: 0.0979 - accuracy: 0.9727 - val_loss: 0.1071 - val_accuracy: 0.9615\n",
      "Epoch 39/50\n",
      "826/826 [==============================] - 44s 53ms/step - loss: 0.0796 - accuracy: 0.9776 - val_loss: 0.0739 - val_accuracy: 0.9808\n",
      "Epoch 40/50\n",
      "826/826 [==============================] - 44s 53ms/step - loss: 0.0812 - accuracy: 0.9743 - val_loss: 0.0640 - val_accuracy: 0.9780\n",
      "Epoch 41/50\n",
      "826/826 [==============================] - 44s 53ms/step - loss: 0.0748 - accuracy: 0.9812 - val_loss: 0.0541 - val_accuracy: 0.9890\n",
      "Epoch 42/50\n",
      "826/826 [==============================] - 44s 53ms/step - loss: 0.0689 - accuracy: 0.9830 - val_loss: 0.0937 - val_accuracy: 0.9615\n",
      "Epoch 43/50\n",
      "826/826 [==============================] - 44s 53ms/step - loss: 0.0678 - accuracy: 0.9827 - val_loss: 0.0823 - val_accuracy: 0.9698\n",
      "Epoch 44/50\n",
      "826/826 [==============================] - 44s 53ms/step - loss: 0.0669 - accuracy: 0.9815 - val_loss: 0.0493 - val_accuracy: 0.9945\n",
      "Epoch 45/50\n",
      "826/826 [==============================] - 44s 53ms/step - loss: 0.0650 - accuracy: 0.9861 - val_loss: 0.0539 - val_accuracy: 0.9918\n",
      "Epoch 46/50\n",
      "826/826 [==============================] - 44s 53ms/step - loss: 0.0673 - accuracy: 0.9806 - val_loss: 0.0787 - val_accuracy: 0.9698\n",
      "Epoch 47/50\n",
      "826/826 [==============================] - 44s 53ms/step - loss: 0.0663 - accuracy: 0.9800 - val_loss: 0.0712 - val_accuracy: 0.9780\n",
      "Epoch 48/50\n",
      "826/826 [==============================] - 44s 53ms/step - loss: 0.0648 - accuracy: 0.9830 - val_loss: 0.0925 - val_accuracy: 0.9725\n",
      "Epoch 49/50\n",
      "826/826 [==============================] - 44s 53ms/step - loss: 0.0544 - accuracy: 0.9873 - val_loss: 0.0734 - val_accuracy: 0.9780\n",
      "Epoch 50/50\n",
      "826/826 [==============================] - 44s 53ms/step - loss: 0.0627 - accuracy: 0.9842 - val_loss: 0.0634 - val_accuracy: 0.9835\n",
      "CPU times: user 24min 58s, sys: 10min 52s, total: 35min 51s\n",
      "Wall time: 37min 40s\n"
     ]
    }
   ],
   "source": [
    "%%time\n",
    "train_history = model.fit(train_dataset,\n",
    "          epochs=50,\n",
    "          validation_data=test_dataset,\n",
    "          callbacks = [ckpt_callback])"
   ]
  },
  {
   "cell_type": "code",
   "execution_count": null,
   "metadata": {},
   "outputs": [
    {
     "data": {
      "image/png": "[encoded data removed]",
      "text/plain": [
       "<Figure size 432x288 with 1 Axes>"
      ]
     },
     "metadata": {
      "needs_background": "light",
      "tags": []
     },
     "output_type": "display_data"
    }
   ],
   "source": [
    "plt.plot(train_history.history['accuracy'],color='blue')\n",
    "plt.plot(train_history.history['val_accuracy'],color='red')\n",
    "plt.title('Model Accuracy')\n",
    "plt.ylabel('accuracy')\n",
    "plt.xlabel('epoch')\n",
    "plt.legend(['train','test'], loc='lower right')\n",
    "plt.show()"
   ]
  },
  {
   "cell_type": "code",
   "execution_count": null,
   "metadata": {},
   "outputs": [
    {
     "data": {
      "image/png": "[encoded data removed]",
      "text/plain": [
       "<Figure size 432x288 with 1 Axes>"
      ]
     },
     "metadata": {
      "needs_background": "light",
      "tags": []
     },
     "output_type": "display_data"
    }
   ],
   "source": [
    "plt.plot(train_history.history['loss'], color='blue')\n",
    "plt.plot(train_history.history['val_loss'], color='red')\n",
    "plt.title('Model Loss')\n",
    "plt.ylabel('loss')\n",
    "plt.xlabel('epoch')\n",
    "plt.legend(['train','test'],loc='upper right')\n",
    "plt.show()"
   ]
  },
  {
   "cell_type": "code",
   "execution_count": null,
   "metadata": {},
   "outputs": [
    {
     "data": {
      "text/plain": [
       "['block13_sepconv1_act',\n",
       " 'block13_sepconv1',\n",
       " 'block13_sepconv1_bn',\n",
       " 'block13_sepconv2_act',\n",
       " 'block13_sepconv2',\n",
       " 'block13_sepconv2_bn',\n",
       " 'conv2d_3',\n",
       " 'block13_pool',\n",
       " 'batch_normalization_3',\n",
       " 'add_11',\n",
       " 'block14_sepconv1',\n",
       " 'block14_sepconv1_bn',\n",
       " 'block14_sepconv1_act',\n",
       " 'block14_sepconv2',\n",
       " 'block14_sepconv2_bn',\n",
       " 'block14_sepconv2_act']"
      ]
     },
     "execution_count": null,
     "metadata": {
      "tags": []
     },
     "output_type": "execute_result"
    }
   ],
   "source": [
    "[layer.name for layer in pre_trained.layers[-16:]]"
   ]
  },
  {
   "cell_type": "code",
   "execution_count": null,
   "metadata": {},
   "outputs": [],
   "source": [
    "top_layers = ['block13_sepconv1_act',\n",
    "                'block13_sepconv1',\n",
    "                'block13_sepconv2_act',\n",
    "                'block13_sepconv2',\n",
    "                'conv2d_3',\n",
    "                'block13_pool',\n",
    "                'add_11',\n",
    "                'block14_sepconv1',\n",
    "                'block14_sepconv1_act',\n",
    "                'block14_sepconv2',\n",
    "                'block14_sepconv2_act']"
   ]
  },
  {
   "cell_type": "code",
   "execution_count": null,
   "metadata": {},
   "outputs": [
    {
     "name": "stdout",
     "output_type": "stream",
     "text": [
      "name: input_1, trainable: False\n",
      "name: block1_conv1, trainable: False\n",
      "name: block1_conv1_bn, trainable: False\n",
      "name: block1_conv1_act, trainable: False\n",
      "name: block1_conv2, trainable: False\n",
      "name: block1_conv2_bn, trainable: False\n",
      "name: block1_conv2_act, trainable: False\n",
      "name: block2_sepconv1, trainable: False\n",
      "name: block2_sepconv1_bn, trainable: False\n",
      "name: block2_sepconv2_act, trainable: False\n",
      "name: block2_sepconv2, trainable: False\n",
      "name: block2_sepconv2_bn, trainable: False\n",
      "name: conv2d, trainable: False\n",
      "name: block2_pool, trainable: False\n",
      "name: batch_normalization, trainable: False\n",
      "name: add, trainable: False\n",
      "name: block3_sepconv1_act, trainable: False\n",
      "name: block3_sepconv1, trainable: False\n",
      "name: block3_sepconv1_bn, trainable: False\n",
      "name: block3_sepconv2_act, trainable: False\n",
      "name: block3_sepconv2, trainable: False\n",
      "name: block3_sepconv2_bn, trainable: False\n",
      "name: conv2d_1, trainable: False\n",
      "name: block3_pool, trainable: False\n",
      "name: batch_normalization_1, trainable: False\n",
      "name: add_1, trainable: False\n",
      "name: block4_sepconv1_act, trainable: False\n",
      "name: block4_sepconv1, trainable: False\n",
      "name: block4_sepconv1_bn, trainable: False\n",
      "name: block4_sepconv2_act, trainable: False\n",
      "name: block4_sepconv2, trainable: False\n",
      "name: block4_sepconv2_bn, trainable: False\n",
      "name: conv2d_2, trainable: False\n",
      "name: block4_pool, trainable: False\n",
      "name: batch_normalization_2, trainable: False\n",
      "name: add_2, trainable: False\n",
      "name: block5_sepconv1_act, trainable: False\n",
      "name: block5_sepconv1, trainable: False\n",
      "name: block5_sepconv1_bn, trainable: False\n",
      "name: block5_sepconv2_act, trainable: False\n",
      "name: block5_sepconv2, trainable: False\n",
      "name: block5_sepconv2_bn, trainable: False\n",
      "name: block5_sepconv3_act, trainable: False\n",
      "name: block5_sepconv3, trainable: False\n",
      "name: block5_sepconv3_bn, trainable: False\n",
      "name: add_3, trainable: False\n",
      "name: block6_sepconv1_act, trainable: False\n",
      "name: block6_sepconv1, trainable: False\n",
      "name: block6_sepconv1_bn, trainable: False\n",
      "name: block6_sepconv2_act, trainable: False\n",
      "name: block6_sepconv2, trainable: False\n",
      "name: block6_sepconv2_bn, trainable: False\n",
      "name: block6_sepconv3_act, trainable: False\n",
      "name: block6_sepconv3, trainable: False\n",
      "name: block6_sepconv3_bn, trainable: False\n",
      "name: add_4, trainable: False\n",
      "name: block7_sepconv1_act, trainable: False\n",
      "name: block7_sepconv1, trainable: False\n",
      "name: block7_sepconv1_bn, trainable: False\n",
      "name: block7_sepconv2_act, trainable: False\n",
      "name: block7_sepconv2, trainable: False\n",
      "name: block7_sepconv2_bn, trainable: False\n",
      "name: block7_sepconv3_act, trainable: False\n",
      "name: block7_sepconv3, trainable: False\n",
      "name: block7_sepconv3_bn, trainable: False\n",
      "name: add_5, trainable: False\n",
      "name: block8_sepconv1_act, trainable: False\n",
      "name: block8_sepconv1, trainable: False\n",
      "name: block8_sepconv1_bn, trainable: False\n",
      "name: block8_sepconv2_act, trainable: False\n",
      "name: block8_sepconv2, trainable: False\n",
      "name: block8_sepconv2_bn, trainable: False\n",
      "name: block8_sepconv3_act, trainable: False\n",
      "name: block8_sepconv3, trainable: False\n",
      "name: block8_sepconv3_bn, trainable: False\n",
      "name: add_6, trainable: False\n",
      "name: block9_sepconv1_act, trainable: False\n",
      "name: block9_sepconv1, trainable: False\n",
      "name: block9_sepconv1_bn, trainable: False\n",
      "name: block9_sepconv2_act, trainable: False\n",
      "name: block9_sepconv2, trainable: False\n",
      "name: block9_sepconv2_bn, trainable: False\n",
      "name: block9_sepconv3_act, trainable: False\n",
      "name: block9_sepconv3, trainable: False\n",
      "name: block9_sepconv3_bn, trainable: False\n",
      "name: add_7, trainable: False\n",
      "name: block10_sepconv1_act, trainable: False\n",
      "name: block10_sepconv1, trainable: False\n",
      "name: block10_sepconv1_bn, trainable: False\n",
      "name: block10_sepconv2_act, trainable: False\n",
      "name: block10_sepconv2, trainable: False\n",
      "name: block10_sepconv2_bn, trainable: False\n",
      "name: block10_sepconv3_act, trainable: False\n",
      "name: block10_sepconv3, trainable: False\n",
      "name: block10_sepconv3_bn, trainable: False\n",
      "name: add_8, trainable: False\n",
      "name: block11_sepconv1_act, trainable: False\n",
      "name: block11_sepconv1, trainable: False\n",
      "name: block11_sepconv1_bn, trainable: False\n",
      "name: block11_sepconv2_act, trainable: False\n",
      "name: block11_sepconv2, trainable: False\n",
      "name: block11_sepconv2_bn, trainable: False\n",
      "name: block11_sepconv3_act, trainable: False\n",
      "name: block11_sepconv3, trainable: False\n",
      "name: block11_sepconv3_bn, trainable: False\n",
      "name: add_9, trainable: False\n",
      "name: block12_sepconv1_act, trainable: False\n",
      "name: block12_sepconv1, trainable: False\n",
      "name: block12_sepconv1_bn, trainable: False\n",
      "name: block12_sepconv2_act, trainable: False\n",
      "name: block12_sepconv2, trainable: False\n",
      "name: block12_sepconv2_bn, trainable: False\n",
      "name: block12_sepconv3_act, trainable: False\n",
      "name: block12_sepconv3, trainable: False\n",
      "name: block12_sepconv3_bn, trainable: False\n",
      "name: add_10, trainable: False\n",
      "name: block13_sepconv1_act, trainable: True\n",
      "name: block13_sepconv1, trainable: True\n",
      "name: block13_sepconv1_bn, trainable: False\n",
      "name: block13_sepconv2_act, trainable: True\n",
      "name: block13_sepconv2, trainable: True\n",
      "name: block13_sepconv2_bn, trainable: False\n",
      "name: conv2d_3, trainable: True\n",
      "name: block13_pool, trainable: True\n",
      "name: batch_normalization_3, trainable: False\n",
      "name: add_11, trainable: True\n",
      "name: block14_sepconv1, trainable: True\n",
      "name: block14_sepconv1_bn, trainable: False\n",
      "name: block14_sepconv1_act, trainable: True\n",
      "name: block14_sepconv2, trainable: True\n",
      "name: block14_sepconv2_bn, trainable: False\n",
      "name: block14_sepconv2_act, trainable: True\n"
     ]
    }
   ],
   "source": [
    "freeze_unfreeze_layers(pre_trained,layers=top_layers,freeze_mode=False)\n",
    "list_layers(pre_trained)"
   ]
  },
  {
   "cell_type": "code",
   "execution_count": null,
   "metadata": {},
   "outputs": [
    {
     "name": "stdout",
     "output_type": "stream",
     "text": [
      "name: flatten, trainable: False\n",
      "name: dense, trainable: False\n",
      "name: dense_1, trainable: False\n",
      "name: dense_2, trainable: False\n"
     ]
    }
   ],
   "source": [
    "freeze_unfreeze_layers(top_model)\n",
    "list_layers(top_model)"
   ]
  },
  {
   "cell_type": "code",
   "execution_count": null,
   "metadata": {},
   "outputs": [],
   "source": [
    "model.compile(optimizer=tf.optimizers.SGD(learning_rate=0.000005, momentum=0.9),\n",
    "              loss = tf.losses.CategoricalCrossentropy(),\n",
    "              metrics=['accuracy'])"
   ]
  },
  {
   "cell_type": "code",
   "execution_count": null,
   "metadata": {},
   "outputs": [
    {
     "name": "stdout",
     "output_type": "stream",
     "text": [
      "Epoch 1/25\n",
      "826/826 [==============================] - 40s 49ms/step - loss: 0.0502 - accuracy: 0.9864 - val_loss: 0.0544 - val_accuracy: 0.9890\n",
      "Epoch 2/25\n",
      "826/826 [==============================] - 39s 48ms/step - loss: 0.0574 - accuracy: 0.9861 - val_loss: 0.0624 - val_accuracy: 0.9780\n",
      "Epoch 3/25\n",
      "826/826 [==============================] - 40s 48ms/step - loss: 0.0444 - accuracy: 0.9915 - val_loss: 0.0510 - val_accuracy: 0.9890\n",
      "Epoch 4/25\n",
      "826/826 [==============================] - 40s 48ms/step - loss: 0.0425 - accuracy: 0.9885 - val_loss: 0.0488 - val_accuracy: 0.9863\n",
      "Epoch 5/25\n",
      "826/826 [==============================] - 40s 48ms/step - loss: 0.0439 - accuracy: 0.9882 - val_loss: 0.0499 - val_accuracy: 0.9890\n",
      "Epoch 6/25\n",
      "826/826 [==============================] - 40s 48ms/step - loss: 0.0386 - accuracy: 0.9903 - val_loss: 0.0388 - val_accuracy: 0.9945\n",
      "Epoch 7/25\n",
      "826/826 [==============================] - 40s 48ms/step - loss: 0.0428 - accuracy: 0.9876 - val_loss: 0.0409 - val_accuracy: 0.9945\n",
      "Epoch 8/25\n",
      "826/826 [==============================] - 40s 48ms/step - loss: 0.0359 - accuracy: 0.9915 - val_loss: 0.0378 - val_accuracy: 0.9945\n",
      "Epoch 9/25\n",
      "826/826 [==============================] - 40s 48ms/step - loss: 0.0423 - accuracy: 0.9870 - val_loss: 0.0422 - val_accuracy: 0.9918\n",
      "Epoch 10/25\n",
      "826/826 [==============================] - 40s 48ms/step - loss: 0.0354 - accuracy: 0.9924 - val_loss: 0.0454 - val_accuracy: 0.9890\n",
      "Epoch 11/25\n",
      "826/826 [==============================] - 40s 48ms/step - loss: 0.0356 - accuracy: 0.9924 - val_loss: 0.0381 - val_accuracy: 0.9890\n",
      "Epoch 12/25\n",
      "826/826 [==============================] - 40s 48ms/step - loss: 0.0411 - accuracy: 0.9909 - val_loss: 0.0256 - val_accuracy: 1.0000\n",
      "Epoch 13/25\n",
      "826/826 [==============================] - 40s 48ms/step - loss: 0.0363 - accuracy: 0.9903 - val_loss: 0.0288 - val_accuracy: 0.9945\n",
      "Epoch 14/25\n",
      "826/826 [==============================] - 40s 48ms/step - loss: 0.0291 - accuracy: 0.9939 - val_loss: 0.0260 - val_accuracy: 0.9973\n",
      "Epoch 15/25\n",
      "826/826 [==============================] - 40s 48ms/step - loss: 0.0367 - accuracy: 0.9915 - val_loss: 0.0285 - val_accuracy: 1.0000\n",
      "Epoch 16/25\n",
      "826/826 [==============================] - 42s 51ms/step - loss: 0.0310 - accuracy: 0.9921 - val_loss: 0.0290 - val_accuracy: 0.9973\n",
      "Epoch 17/25\n",
      "826/826 [==============================] - 40s 49ms/step - loss: 0.0286 - accuracy: 0.9930 - val_loss: 0.0319 - val_accuracy: 0.9973\n",
      "Epoch 18/25\n",
      "826/826 [==============================] - 40s 49ms/step - loss: 0.0298 - accuracy: 0.9936 - val_loss: 0.0192 - val_accuracy: 1.0000\n",
      "Epoch 19/25\n",
      "826/826 [==============================] - 40s 49ms/step - loss: 0.0344 - accuracy: 0.9915 - val_loss: 0.0293 - val_accuracy: 0.9945\n",
      "Epoch 20/25\n",
      "826/826 [==============================] - 41s 49ms/step - loss: 0.0285 - accuracy: 0.9927 - val_loss: 0.0219 - val_accuracy: 1.0000\n",
      "Epoch 21/25\n",
      "826/826 [==============================] - 40s 49ms/step - loss: 0.0286 - accuracy: 0.9939 - val_loss: 0.0161 - val_accuracy: 1.0000\n",
      "Epoch 22/25\n",
      "826/826 [==============================] - 41s 49ms/step - loss: 0.0262 - accuracy: 0.9939 - val_loss: 0.0299 - val_accuracy: 0.9945\n",
      "Epoch 23/25\n",
      "826/826 [==============================] - 40s 49ms/step - loss: 0.0304 - accuracy: 0.9924 - val_loss: 0.0402 - val_accuracy: 0.9918\n",
      "Epoch 24/25\n",
      "826/826 [==============================] - 40s 49ms/step - loss: 0.0286 - accuracy: 0.9936 - val_loss: 0.0443 - val_accuracy: 0.9863\n",
      "Epoch 25/25\n",
      "826/826 [==============================] - 46s 56ms/step - loss: 0.0261 - accuracy: 0.9942 - val_loss: 0.0184 - val_accuracy: 0.9945\n",
      "CPU times: user 12min 21s, sys: 5min 57s, total: 18min 19s\n",
      "Wall time: 17min 5s\n"
     ]
    }
   ],
   "source": [
    "%%time\n",
    "fine_tune_history = model.fit(train_dataset,\n",
    "                              epochs=25,\n",
    "                              validation_data=test_dataset,\n",
    "                              callbacks=[ckpt_callback])"
   ]
  }
 ],
 "metadata": {
  "kernelspec": {
   "display_name": "Python 3",
   "name": "python3"
  }
 },
 "nbformat": 4,
 "nbformat_minor": 0
}
